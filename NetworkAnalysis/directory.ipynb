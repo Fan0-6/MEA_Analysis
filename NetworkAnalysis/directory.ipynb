{
 "cells": [
  {
   "cell_type": "code",
   "execution_count": 1,
   "metadata": {},
   "outputs": [
    {
     "name": "stdout",
     "output_type": "stream",
     "text": [
      "Files have been backed up and organized by chip ID.\n"
     ]
    }
   ],
   "source": [
    "import os\n",
    "import shutil\n",
    "# Define the directory containing the files\n",
    "source_folder = \"/mnt/disk15tb/paula/Main_DA_Projects/data_analysis_output/Primary Neurons/CDKL5_E6D_T2_Nov17/Network_outputs/Raster_BurstActivity/Plot120s/\"  # Update with the actual source folder path\n",
    "backup_folder = os.path.join(source_folder, \"backup\")\n",
    "def organize_files_by_chip(source_folder, backup_folder):\n",
    "    # Create a backup folder if it doesn't exist\n",
    "    if not os.path.exists(backup_folder):\n",
    "        os.makedirs(backup_folder)\n",
    "    # Get a list of all files in the source folder\n",
    "    files = [f for f in os.listdir(source_folder) if os.path.isfile(os.path.join(source_folder, f))]\n",
    "    for file in files:\n",
    "        # Copy the file to the backup folder\n",
    "        shutil.copy(os.path.join(source_folder, file), os.path.join(backup_folder, file))\n",
    "        # Extract plate ID and well ID to form the chip identifier\n",
    "        parts = file.split(\"_\")\n",
    "        try:\n",
    "            well_id_index = parts.index(\"WellID\") + 1  # Identify the position of \"WellID\" and get the next element\n",
    "            plate_id_index = well_id_index + 1  # Plate ID is the next element after well ID\n",
    "            well_id = parts[well_id_index]\n",
    "            plate_id = parts[plate_id_index]\n",
    "            chip_id = f\"{plate_id}_{well_id}\"  # Combine plate ID and well ID\n",
    "        except (IndexError, ValueError):\n",
    "            print(f\"Skipping file: {file} - Unable to extract chip ID\")\n",
    "            continue\n",
    "        # Define the target folder based on the chip ID\n",
    "        target_folder = os.path.join(source_folder, chip_id)\n",
    "        # Create the target folder if it doesn't exist\n",
    "        if not os.path.exists(target_folder):\n",
    "            os.makedirs(target_folder)\n",
    "        # Move the file to the target folder\n",
    "        source_file_path = os.path.join(source_folder, file)\n",
    "        target_file_path = os.path.join(target_folder, file)\n",
    "        shutil.move(source_file_path, target_file_path)\n",
    "    print(\"Files have been backed up and organized by chip ID.\")\n",
    "# Run the organization function\n",
    "organize_files_by_chip(source_folder, backup_folder)"
   ]
  }
 ],
 "metadata": {
  "kernelspec": {
   "display_name": "Python 3",
   "language": "python",
   "name": "python3"
  },
  "language_info": {
   "codemirror_mode": {
    "name": "ipython",
    "version": 3
   },
   "file_extension": ".py",
   "mimetype": "text/x-python",
   "name": "python",
   "nbconvert_exporter": "python",
   "pygments_lexer": "ipython3",
   "version": "3.10.12"
  }
 },
 "nbformat": 4,
 "nbformat_minor": 2
}
